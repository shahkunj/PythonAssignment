{
 "cells": [
  {
   "cell_type": "code",
   "execution_count": 1,
   "metadata": {},
   "outputs": [
    {
     "name": "stdout",
     "output_type": "stream",
     "text": [
      "Sorting Assignment-1\n",
      "\n",
      "Sorted List : \n",
      "[1, 2, 10, 4, 1, 56, 2, 1, 3, 56, 4, 0, 0, 0, 0, 0]\n"
     ]
    }
   ],
   "source": [
    "print(\"Sorting Assignment-1\\n\")\n",
    "\n",
    "data = [0,1,2,10,4,1,0,56,2,0,1,3,0,56,0,4]\n",
    "\n",
    "data.sort(key=lambda v:v == 0)\n",
    "\n",
    "print(f\"Sorted List : \\n{data}\")"
   ]
  }
 ],
 "metadata": {
  "kernelspec": {
   "display_name": "Python 3",
   "language": "python",
   "name": "python3"
  },
  "language_info": {
   "codemirror_mode": {
    "name": "ipython",
    "version": 3
   },
   "file_extension": ".py",
   "mimetype": "text/x-python",
   "name": "python",
   "nbconvert_exporter": "python",
   "pygments_lexer": "ipython3",
   "version": "3.7.6"
  }
 },
 "nbformat": 4,
 "nbformat_minor": 4
}
