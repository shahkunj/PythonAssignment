{
 "cells": [
  {
   "cell_type": "markdown",
   "metadata": {},
   "source": [
    "# Assignment of Day-02\n",
    "\n",
    "#Variables: Syntax: Variable Name = value\n",
    "\n",
    "number = 1947\n",
    "\n",
    "#Operators and Assignment Operation and also Formatted Strings\n",
    "\n",
    "operand1 = 25\n",
    "operand2 = 5\n",
    "operation = 0\n",
    "\n",
    "#Addition\n",
    "operation = operand1 + operand2\n",
    "print(f\"Addition Value = {operation} \\n\") #Escape Sequences\n",
    "#Subtraction\n",
    "operation = operand1 - operand2\n",
    "print(f\"Subtracted Value = {operation}\")\n",
    "#Division\n",
    "operation = operand1//operand2 #Returns Integer\n",
    "print(f\"Divided Value = {operation}\")\n",
    "#Reminder\n",
    "operation = operand1 % operand2\n",
    "print(f'Reminder\\'s = {operation}') #Back Slash\n",
    "#Multipliaction\n",
    "operation = operand1 * operand2\n",
    "print(f\"Multiplied Value = {operation}\")\n",
    "\n",
    "# Triple Quotes\n",
    "print (\"\"\" Learning From\n",
    "            Let's Upgrade Is Fun !!!!\n",
    "                    \"\"\")"
   ]
  },
  {
   "cell_type": "code",
   "execution_count": null,
   "metadata": {},
   "outputs": [],
   "source": []
  }
 ],
 "metadata": {
  "kernelspec": {
   "display_name": "Python 3",
   "language": "python",
   "name": "python3"
  },
  "language_info": {
   "codemirror_mode": {
    "name": "ipython",
    "version": 3
   },
   "file_extension": ".py",
   "mimetype": "text/x-python",
   "name": "python",
   "nbconvert_exporter": "python",
   "pygments_lexer": "ipython3",
   "version": "3.7.6"
  }
 },
 "nbformat": 4,
 "nbformat_minor": 4
}
