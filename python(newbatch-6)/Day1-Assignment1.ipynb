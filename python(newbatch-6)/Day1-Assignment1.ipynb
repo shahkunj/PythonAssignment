{
 "cells": [
  {
   "cell_type": "markdown",
   "metadata": {},
   "source": [
    "# Day1 Assignment1"
   ]
  },
  {
   "cell_type": "markdown",
   "metadata": {},
   "source": [
    "# Python Batch 6\n",
    "\n",
    "\n",
    "1.What is python?What are the ways to install python in your PC?\n",
    "----------------------------------------------------------------------------------------------\n",
    "=>Python is a programming language which will be use full for developing Games,Softwares,Database access,Network programing and even used for on server to create web applications and also use for machinelearning, deeplearning,datascience,artificial intelligence.\n",
    "\n",
    "=>It is an interpreted, high-level, general-purpose programming language developed by Guido van Rossum in 1991 and become famous in 2006 by Google.\n",
    "\n",
    "=>Python gets its name from a popular BBC TV show aired in between 1969 to 1974 called “Monty’s Python Circus”. It was backed by Google in 2006 and hence became very famous.\n",
    "\n",
    "=>It is quite popular because of its simplicity,future benefits,and their importance in every fields.\n",
    "Different Ways to install python:\n",
    "1. First of all download python3 from the internet.\n",
    "2. Now download the software like pycharm,Anaconda or sublime which you want.(Anaconda is best it contains all the code environment so that it will be easier to use).\n",
    "3. Open Anaconda Navigator.\n",
    "4. Launch Jupyter Notebook or VS code or which IDE you want.\n",
    "5. Create New Folder and rename it.\n",
    "6. Now create a python file and start coding.\n",
    "\n",
    "\n",
    "2.What is Code Environment?Types?\n",
    "----------------------------------------------------\n",
    "=>Code Environment is a platform where we can write,compile,run our code easily.And it is of three types.\n",
    "They are,\n",
    "1.Text Editors.\n",
    "2.Full IDEs.\n",
    "3.Notebook Environments.\n",
    "\n",
    "=>TextEditors: It is general editor for all types of files. That is it can be used for all programming language like c,c++,html,JavaScripts,css,bootstrap,php etc.\n",
    "Example: VS Code, notepad,notepad++,sublime,brackets.\n",
    "\n",
    "=>Full IDEs: It is a developer environment only for python not for other languages.\n",
    "Example: pycharm,spyder\n",
    "\n",
    "=>Notebook Environments: This Environment will be more popular because this provides output line by line and also contains different modes which will provide additional information in our program.\n",
    "Example:Jupyter Notebook."
   ]
  },
  {
   "cell_type": "code",
   "execution_count": null,
   "metadata": {},
   "outputs": [],
   "source": []
  }
 ],
 "metadata": {
  "kernelspec": {
   "display_name": "Python 3",
   "language": "python",
   "name": "python3"
  },
  "language_info": {
   "codemirror_mode": {
    "name": "ipython",
    "version": 3
   },
   "file_extension": ".py",
   "mimetype": "text/x-python",
   "name": "python",
   "nbconvert_exporter": "python",
   "pygments_lexer": "ipython3",
   "version": "3.7.6"
  }
 },
 "nbformat": 4,
 "nbformat_minor": 4
}
